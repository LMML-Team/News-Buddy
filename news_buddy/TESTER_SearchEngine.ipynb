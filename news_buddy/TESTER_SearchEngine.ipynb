{
 "cells": [
  {
   "cell_type": "code",
   "execution_count": 1,
   "metadata": {
    "collapsed": true,
    "scrolled": true
   },
   "outputs": [],
   "source": [
    "import config as rs"
   ]
  },
  {
   "cell_type": "code",
   "execution_count": 2,
   "metadata": {
    "scrolled": false
   },
   "outputs": [
    {
     "name": "stdout",
     "output_type": "stream",
     "text": [
      "downloading: http://rss.cnn.com/~r/rss/cnn_topstories/~3/tR8khyJvXd4/index.html\n",
      "downloading: http://rss.cnn.com/~r/rss/cnn_topstories/~3/xGxuSq5nmB0/index.html\n",
      "downloading: http://rss.cnn.com/~r/rss/cnn_topstories/~3/-9CWNFfmDOU/trump-going-to-destroy-ms13-sot.cnn\n",
      "downloading: http://rss.cnn.com/~r/rss/cnn_topstories/~3/C8Y8lsC20yI/index.html\n",
      "downloading: http://rss.cnn.com/~r/rss/cnn_topstories/~3/eEerMahN3kg/index.html\n",
      "downloading: http://rss.cnn.com/~r/rss/cnn_topstories/~3/zrp5pCIejkw/index.html\n",
      "downloading: http://rss.cnn.com/~r/rss/cnn_topstories/~3/4mCyhVxfMNs/index.html\n",
      "downloading: http://rss.cnn.com/~r/rss/cnn_topstories/~3/-qtsgduQt9k/index.html\n",
      "downloading: http://rss.cnn.com/~r/rss/cnn_topstories/~3/oje0RKGOOK4/index.html\n",
      "downloading: http://rss.cnn.com/~r/rss/cnn_topstories/~3/rW-DIiGuz4k/index.html\n"
     ]
    }
   ],
   "source": [
    "# Database works here.\n",
    "rs.collect(\"http://rss.cnn.com/rss/cnn_topstories.rss\", 10, filename=\"news.pickle\")"
   ]
  },
  {
   "cell_type": "code",
   "execution_count": 3,
   "metadata": {
    "collapsed": true,
    "scrolled": true
   },
   "outputs": [],
   "source": [
    "news = rs.load()"
   ]
  },
  {
   "cell_type": "code",
   "execution_count": 4,
   "metadata": {
    "collapsed": true
   },
   "outputs": [],
   "source": [
    "rs.save()"
   ]
  },
  {
   "cell_type": "code",
   "execution_count": 5,
   "metadata": {},
   "outputs": [
    {
     "data": {
      "text/plain": [
       "'\"We\\'ve gotten a lot of them out of here,\" Trump sa'"
      ]
     },
     "execution_count": 5,
     "metadata": {},
     "output_type": "execute_result"
    }
   ],
   "source": [
    "rs.get_text(\"http://rss.cnn.com/~r/rss/cnn_topstories/~3/tR8khyJvXd4/index.html\")[:50]"
   ]
  },
  {
   "cell_type": "code",
   "execution_count": 10,
   "metadata": {
    "scrolled": true
   },
   "outputs": [
    {
     "data": {
      "text/plain": [
       "'\"We\\'ve gotten a lot of them out of here,\" Trump said. \"But the rest are coming. They\\'ll be out of he'"
      ]
     },
     "execution_count": 10,
     "metadata": {},
     "output_type": "execute_result"
    }
   ],
   "source": [
    "rs.get_data(0)[:100]"
   ]
  },
  {
   "cell_type": "code",
   "execution_count": 7,
   "metadata": {
    "scrolled": true
   },
   "outputs": [
    {
     "data": {
      "text/plain": [
       "str"
      ]
     },
     "execution_count": 7,
     "metadata": {},
     "output_type": "execute_result"
    }
   ],
   "source": [
    "string = rs.get_text(\"http://rss.cnn.com/~r/rss/cnn_topstories/~3/4YFwJMnmxVI/index.html\")\n",
    "type(string)"
   ]
  },
  {
   "cell_type": "code",
   "execution_count": null,
   "metadata": {
    "collapsed": true
   },
   "outputs": [],
   "source": [
    "rs.collect(\"http://rss.cnn.com/rss/cnn_topstories.rss\", 50, filename=\"fakenews.pickle\")\n",
    "\n",
    "rs.collect(\"http://abcnews.go.com/abcnews/usheadlines\", 50, filename=\"fakenews.pickle\")\n",
    "\n",
    "rs.collect(\"http://rss.nytimes.com/services/xml/rss/nyt/US.xml\", 50, filename=\"fakenews.pickle\")\n",
    "\n",
    "rs.collect(\"http://feeds.washingtonpost.com/rss/national\", 50, filename=\"fakenews.pickle\")\n",
    "\n",
    "\n",
    "rs.collect(\"http://feeds.bbci.co.uk/news/rss.xml?edition=us\", 50, filename=\"fakenews.pickle\")\n",
    "\n",
    "rs.collect(\"http://feeds.foxnews.com/foxnews/national\", 50, filename=\"fakenews.pickle\")"
   ]
  }
 ],
 "metadata": {
  "kernelspec": {
   "display_name": "Python 3",
   "language": "python",
   "name": "python3"
  },
  "language_info": {
   "codemirror_mode": {
    "name": "ipython",
    "version": 3
   },
   "file_extension": ".py",
   "mimetype": "text/x-python",
   "name": "python",
   "nbconvert_exporter": "python",
   "pygments_lexer": "ipython3",
   "version": "3.6.2"
  }
 },
 "nbformat": 4,
 "nbformat_minor": 2
}
