{
 "cells": [
  {
   "cell_type": "code",
   "execution_count": 1,
   "metadata": {
    "collapsed": true,
    "scrolled": true
   },
   "outputs": [],
   "source": [
    "import config as rs\n",
    "import re"
   ]
  },
  {
   "cell_type": "code",
   "execution_count": 3,
   "metadata": {
    "scrolled": true
   },
   "outputs": [
    {
     "name": "stdout",
     "output_type": "stream",
     "text": [
      "downloading: http://rss.cnn.com/~r/rss/cnn_topstories/~3/xX3pbM0Ei2s/index.html\n",
      "downloading: http://rss.cnn.com/~r/rss/cnn_topstories/~3/37bHcrIO0Bo/index.html\n",
      "downloading: http://rss.cnn.com/~r/rss/cnn_topstories/~3/v0qWjig1eyw/index.html\n",
      "downloading: http://rss.cnn.com/~r/rss/cnn_topstories/~3/RBO97oanhqw/index.html\n",
      "downloading: http://rss.cnn.com/~r/rss/cnn_topstories/~3/m425cXgsGks/california-officer-points-gun-for-nine-minutes-at-man.angelo-david-gonzales-viralhog-com\n",
      "downloading: http://rss.cnn.com/~r/rss/cnn_topstories/~3/TBxoZGYd9ng/index.html\n",
      "downloading: http://rss.cnn.com/~r/rss/cnn_topstories/~3/rV_vMS_PO28/index.html\n",
      "downloading: http://rss.cnn.com/~r/rss/cnn_topstories/~3/mtVYduF01Uw/index.html\n",
      "downloading: http://rss.cnn.com/~r/rss/cnn_topstories/~3/il9dA4eqrxo/index.html\n",
      "downloading: http://rss.cnn.com/~r/rss/cnn_topstories/~3/86L6KISxMSs/kl-tc-hostage-family-freed.cnn\n",
      "downloading: http://rss.cnn.com/~r/rss/cnn_topstories/~3/75gt5RtmzHo/index.html\n",
      "downloading: http://rss.cnn.com/~r/rss/cnn_topstories/~3/JYJ5IF-9a40/index.html\n",
      "downloading: http://rss.cnn.com/~r/rss/cnn_topstories/~3/IrZUvmPrz2M/index.html\n",
      "downloading: http://rss.cnn.com/~r/rss/cnn_topstories/~3/Y9dX-hKKlNE/index.html\n",
      "downloading: http://rss.cnn.com/~r/rss/cnn_topstories/~3/lJBynwz-QjY/index.html\n",
      "downloading: http://rss.cnn.com/~r/rss/cnn_topstories/~3/KuH-DjQI3hw/index.html\n",
      "downloading: http://rss.cnn.com/~r/rss/cnn_topstories/~3/A4qRgxK7d7I/index.html\n",
      "downloading: http://rss.cnn.com/~r/rss/cnn_topstories/~3/LHFR_iHP5tI/carson-doorsteps-of-impeachment-tsr-sot.cnn\n",
      "downloading: http://rss.cnn.com/~r/rss/cnn_topstories/~3/OYzPCiOCUcI/2725929-tom-bradys-mom-galynn-receives-super-bowl-51-ring-from-patriots-robert-kraft\n",
      "downloading: http://rss.cnn.com/~r/rss/cnn_topstories/~3/WVbNYKcvpcw/index.html\n",
      "downloading: http://rss.cnn.com/~r/rss/cnn_topstories/~3/wkoPoHNf33o/index.html\n",
      "downloading: http://rss.cnn.com/~r/rss/cnn_topstories/~3/iNwpy4W6lKY/2725902-dodgers-complete-best-50-game-stretch-in-mlb-since-1912-with-win-vs-mets\n",
      "downloading: http://rss.cnn.com/~r/rss/cnn_topstories/~3/qD-nDeprmGI/2725684-jim-plunkett-says-my-life-sucks-lives-in-constant-pain-from-football\n",
      "downloading: http://rss.cnn.com/~r/rss/cnn_topstories/~3/BTcL3ASujmg/index.html\n",
      "downloading: http://rss.cnn.com/~r/rss/cnn_topstories/~3/niv1oNUWFBk/2724914-martellus-bennett-on-players-cte-comments-i-aint-dying-for-this-s-t\n",
      "downloading: http://rss.cnn.com/~r/rss/cnn_topstories/~3/4xcCxOsR8ug/index.html\n",
      "downloading: http://rss.cnn.com/~r/rss/cnn_topstories/~3/yil_Bzutv9U/wedding-photographer-defamation-suit.hln\n",
      "downloading: http://rss.cnn.com/~r/rss/cnn_topstories/~3/0ZZ2hOrxig8/little-pompeii-roman-neighborhood-france-orig-lon.cnn\n",
      "downloading: http://rss.cnn.com/~r/rss/cnn_topstories/~3/zroMicxqBB0/index.html\n",
      "downloading: http://rss.cnn.com/~r/rss/cnn_topstories/~3/M8k35V4VHvc/index.html\n",
      "downloading: http://rss.cnn.com/~r/rss/cnn_topstories/~3/osNU8lAxrPY/index.html\n",
      "downloading: http://rss.cnn.com/~r/rss/cnn_topstories/~3/zS9CUbLXdc8/index.html\n",
      "downloading: http://rss.cnn.com/~r/rss/cnn_topstories/~3/Mr5a4wQyOxE/\n",
      "downloading: http://rss.cnn.com/~r/rss/cnn_topstories/~3/xr9WZOiU6O0/\n",
      "downloading: http://rss.cnn.com/~r/rss/cnn_topstories/~3/U-VIVwb5Y6I/\n",
      "downloading: http://rss.cnn.com/~r/rss/cnn_topstories/~3/93W2Dfwq0Q4/index.html\n",
      "downloading: http://rss.cnn.com/~r/rss/cnn_topstories/~3/V6F7Vu5r4lE/index.html\n",
      "downloading: http://rss.cnn.com/~r/rss/cnn_topstories/~3/JZsYheNuGjQ/index.html\n",
      "downloading: http://rss.cnn.com/~r/rss/cnn_topstories/~3/smXiOf2Vo8k/harvard-race-admissions-vijay-jojo-chokal-ingam-smerconish-sot.cnn\n",
      "downloading: http://rss.cnn.com/~r/rss/cnn_topstories/~3/_xrjIZk8b48/index.html\n",
      "downloading: http://rss.cnn.com/~r/rss/cnn_topstories/~3/CVRMbCusZa4/subscribe\n",
      "downloading: http://rss.cnn.com/~r/rss/cnn_topstories/~3/HPQbAncJi-8/index.html\n",
      "downloading: http://rss.cnn.com/~r/rss/cnn_topstories/~3/pptgwmSYexc/index.html\n",
      "downloading: http://rss.cnn.com/~r/rss/cnn_topstories/~3/JJksCnsP90g/index.html\n",
      "downloading: http://rss.cnn.com/~r/rss/cnn_topstories/~3/LRypK0fE45c/index.html\n",
      "downloading: http://rss.cnn.com/~r/rss/cnn_topstories/~3/BkAZnpHbSLM/index.html\n",
      "downloading: http://rss.cnn.com/~r/rss/cnn_topstories/~3/7WKxhFk6f4w/index.html\n",
      "downloading: http://rss.cnn.com/~r/rss/cnn_topstories/~3/JyyYlk2tA3M/index.html\n",
      "downloading: http://rss.cnn.com/~r/rss/cnn_topstories/~3/uf_z1j0KERs/\n",
      "downloading: http://rss.cnn.com/~r/rss/cnn_topstories/~3/PvX5Uf37imE/finding-the-right-doctor-for-pbc\n",
      "downloading: http://abcnews.go.com/US/police-release-video-suspect-wanted-florida-resort-killings/story?id=49053097\n",
      "downloading: http://abcnews.go.com/US/wireStory/prisoner-charged-rape-overpowers-deputy-steals-gun-49057233\n",
      "downloading: http://abcnews.go.com/US/wireStory/police-investigate-blast-minnesota-mosque-hurt-49052451\n",
      "downloading: http://abcnews.go.com/US/wireStory/imposes-tough-sanctions-north-korea-49056154\n",
      "downloading: http://abcnews.go.com/US/man-stranded-arizona-desert-days-tells-story-survival/story?id=49055549\n",
      "downloading: http://abcnews.go.com/US/minnesota-mosque-explosion-investigated-federal-authorities/story?id=49056050\n",
      "downloading: http://abcnews.go.com/US/wireStory/mcconnell-bipartisan-plan-pay-health-insurers-49058948\n",
      "downloading: http://abcnews.go.com/US/wireStory/sheriff-mom-kids-captive-virginia-home-years-49007786\n",
      "downloading: http://abcnews.go.com/US/wireStory/billions-lost-nuclear-power-projects-bills-due-49052738\n",
      "downloading: http://abcnews.go.com/US/wireStory/lowes-lay-off-delivery-workers-country-49038942\n",
      "downloading: http://abcnews.go.com/US/wireStory/police-chicago-stabbing-death-suspects-surrender-peacefully-49050086\n",
      "downloading: http://abcnews.go.com/US/wireStory/workers-mississippi-nissan-plant-casting-ballots-union-49027849\n",
      "downloading: http://abcnews.go.com/GMA/video/authorities-call-off-search-missing-marines-49062561\n",
      "downloading: http://abcnews.go.com/GMA/video/lottery-jackpots-now-650-million-49062353\n",
      "downloading: http://abcnews.go.com/US/video/trump-greets-wedding-guests-jersey-golf-club-49058856\n",
      "downloading: http://abcnews.go.com/WNT/video/murder-suspects-custody-cross-country-manhunt-49057880\n",
      "downloading: http://abcnews.go.com/WNT/video/extreme-turbulence-hits-philadelphia-bound-flight-49057881\n",
      "downloading: http://abcnews.go.com/WNT/video/gm-issues-world-wide-recall-affecting-700000-trucks-49057773\n",
      "downloading: http://abcnews.go.com/WNT/video/man-survives-45-hours-stranded-arizona-desert-car-49057775\n",
      "downloading: http://abcnews.go.com/WNT/video/florida-resort-stunned-murder-case-15-years-49057776\n",
      "downloading: http://abcnews.go.com/WNT/video/dangerous-weather-moves-parts-us-49057878\n",
      "downloading: http://abcnews.go.com/Travel/video/man-stranded-arizona-desert-car-breaks-49055632\n",
      "downloading: http://abcnews.go.com/GMA/video/northwestern-professor-oxford-administrator-surrender-california-49051902\n",
      "downloading: http://abcnews.go.com/GMA/video/celebrating-national-oyster-day-49051738\n",
      "downloading: http://abcnews.go.com/US/video/trump-greets-wedding-guests-jersey-golf-club-49058856\n",
      "downloading: https://www.nytimes.com/2017/08/05/us/affirmative-action-justice-department.html?partner=rss&emc=rss\n",
      "downloading: https://www.nytimes.com/2017/08/05/us/usc-rape-case-dropped-video-evidence.html?partner=rss&emc=rss\n",
      "downloading: https://www.nytimes.com/2017/08/04/science/gene-editing-embryos-designer-babies.html?partner=rss&emc=rss\n",
      "downloading: https://www.nytimes.com/2017/08/04/world/middleeast/blackwater-contractors-iraq-sentences.html?partner=rss&emc=rss\n",
      "downloading: https://www.nytimes.com/2017/08/05/us/minnesota-mosque-explosion.html?partner=rss&emc=rss\n",
      "downloading: https://www.nytimes.com/2017/08/05/us/puerto-ricans-millennials-start-ups-small-business.html?partner=rss&emc=rss\n",
      "downloading: https://www.nytimes.com/2017/08/02/education/edlife/writing-education-grammar-students-children.html?partner=rss&emc=rss\n",
      "downloading: https://www.nytimes.com/video/us/100000005325491/toxic-trespassing-in-texas-manchester-houston-air-pollution.html?partner=rss&emc=rss\n",
      "downloading: https://www.nytimes.com/2017/08/02/movies/kathryn-bigelow-mark-boal-detroit-police-brutality.html?partner=rss&emc=rss\n"
     ]
    },
    {
     "name": "stdout",
     "output_type": "stream",
     "text": [
      "downloading: https://www.nytimes.com/2017/08/06/science/let-forest-fires-burn-what-the-black-backed-woodpecker-knows.html?partner=rss&emc=rss\n",
      "downloading: https://www.nytimes.com/2017/08/06/us/black-transgender-lil-duval.html?partner=rss&emc=rss\n",
      "downloading: https://www.nytimes.com/2017/08/05/us/politics/building-a-trump-centric-intellectual-movement-trumpism.html?partner=rss&emc=rss\n",
      "downloading: https://www.nytimes.com/2017/08/05/us/politics/2020-campaign-president-trump-cotton-sasse-pence.html?partner=rss&emc=rss\n",
      "downloading: https://www.nytimes.com/2017/08/05/us/couple-texts-plane-abuse.html?partner=rss&emc=rss\n",
      "downloading: https://www.nytimes.com/2017/08/06/us/detroit-election-mayor-coleman-young-mike-duggan.html?partner=rss&emc=rss\n",
      "downloading: https://www.washingtonpost.com/news/retropolis/wp/2017/08/06/how-a-despondent-veteran-helped-make-the-golden-gate-bridge-a-suicide-destination/\n",
      "downloading: https://www.washingtonpost.com/business/economy/north-koreas-humanitarian-exports-paid-for-weapons-programs-us-says/2017/08/05/deeb7f3e-761d-11e7-9eac-d56bd5568db8_story.html\n",
      "downloading: https://www.washingtonpost.com/world/national-security/un-imposes-new-sanctions-on-north-korea-following-missile-tests/2017/08/05/dc382962-7a29-11e7-8f39-eeb7d3a2d304_story.html\n",
      "downloading: https://www.washingtonpost.com/news/politics/wp/2017/08/05/white-house-to-become-less-dump-like-in-trumps-absence/\n",
      "downloading: https://www.washingtonpost.com/national/rise-of-the-machines/2017/08/05/631e20ba-76df-11e7-8f39-eeb7d3a2d304_story.html\n",
      "downloading: https://www.washingtonpost.com/news/post-nation/wp/2017/08/05/fbi-investigating-explosion-at-minnesota-mosque/\n",
      "downloading: https://www.washingtonpost.com/local/social-issues/for-a-better-educated-child-care-workforce-washington-looks-to-high-school/2017/08/05/2a93a3e2-77b0-11e7-8f39-eeb7d3a2d304_story.html\n",
      "downloading: https://www.washingtonpost.com/local/education/universities-in-va-hit-students-with-whopping-collection-fees-for-unpaid-tuition/2017/08/05/0968c18e-72d3-11e7-9eac-d56bd5568db8_story.html\n",
      "downloading: https://www.washingtonpost.com/video/politics/a-look-inside-trump-international-hotel-in-dc/2017/08/05/33913104-7a07-11e7-8c17-533c52b2f014_video.html\n",
      "downloading: https://www.washingtonpost.com/politics/president-trump-settles-in-for-17-day-vacation-at-his-secluded-new-jersey-club/2017/08/05/5c79347c-79d5-11e7-8f39-eeb7d3a2d304_story.html\n",
      "downloading: https://www.washingtonpost.com/national/health-science/are-leg-and-foot-cramps-waking-you-up-at-night-youre-not-alone/2017/08/04/14490744-761b-11e7-8f39-eeb7d3a2d304_story.html\n",
      "downloading: https://www.washingtonpost.com/national/health-science/do-you-talk-to-yourself-scientists-love-it/2017/08/04/b595f786-76ef-11e7-8f39-eeb7d3a2d304_story.html\n",
      "downloading: https://www.washingtonpost.com/politics/the-future-of-the-democratic-party-could-be-written-in-upcoming-gubernatorial-races/2017/08/05/e897f972-79e7-11e7-8839-ec48ec4cae25_story.html\n",
      "downloading: https://www.washingtonpost.com/news/checkpoint/wp/2017/08/05/three-people-missing-after-marine-corps-aircraft-crash-near-australia/\n",
      "downloading: https://www.washingtonpost.com/national/health-science/to-prepare-for-the-aug-21-solar-eclipse-check-out-these-amazing-paintings/2017/08/04/194749a4-76ed-11e7-8f39-eeb7d3a2d304_story.html\n",
      "downloading: https://www.washingtonpost.com/news/post-nation/wp/2017/08/05/news-quiz-big-honors-and-firsts/\n",
      "downloading: https://www.washingtonpost.com/news/post-nation/wp/2017/08/05/why-a-grieving-mother-blames-chris-christie-for-her-sons-killing/\n",
      "downloading: https://www.washingtonpost.com/news/animalia/wp/2017/08/05/police-smelled-decay-they-found-a-noahs-ark-of-death/\n",
      "downloading: https://www.washingtonpost.com/world/national-security/the-fight-over-trumps-afghan-policy-has-become-an-argument-over-the-meaning-of-america-first/2017/08/04/f2790c80-785f-11e7-8f39-eeb7d3a2d304_story.html\n",
      "downloading: https://www.washingtonpost.com/world/national-security/attorney-general-says-justice-dept-has-tripled-the-number-of-leak-probes/2017/08/04/1a395064-791d-11e7-9eac-d56bd5568db8_story.html\n",
      "downloading: http://www.bbc.co.uk/news/world-latin-america-40843494\n",
      "downloading: http://www.bbc.co.uk/news/world-asia-40842068\n",
      "downloading: http://www.bbc.co.uk/news/world-us-canada-40841446\n",
      "downloading: http://www.bbc.co.uk/sport/athletics/40842008\n",
      "downloading: http://www.bbc.co.uk/news/world-asia-india-40843119\n",
      "downloading: http://www.bbc.co.uk/news/world-europe-40842853\n",
      "downloading: http://www.bbc.co.uk/news/world-40838673\n",
      "downloading: http://www.bbc.co.uk/news/world-europe-40841411\n",
      "downloading: http://www.bbc.co.uk/news/world-europe-40841737\n",
      "downloading: http://www.bbc.co.uk/news/uk-40840823\n",
      "downloading: http://www.bbc.co.uk/news/world-australia-40841484\n",
      "downloading: http://www.bbc.co.uk/news/world-us-canada-40838979\n",
      "downloading: http://www.bbc.co.uk/news/world-europe-40839658\n",
      "downloading: http://www.bbc.co.uk/news/world-us-canada-40814714\n",
      "downloading: http://www.bbc.co.uk/news/in-pictures-40815301\n",
      "downloading: http://www.bbc.co.uk/news/world-us-canada-40808131\n",
      "downloading: http://www.bbc.co.uk/news/magazine-40829260\n",
      "downloading: http://www.bbc.co.uk/news/entertainment-arts-40825568\n",
      "downloading: http://www.bbc.co.uk/news/world-us-canada-40291804\n",
      "downloading: http://www.bbc.co.uk/news/in-pictures-40825288\n",
      "downloading: http://www.bbc.co.uk/news/business-40823747\n",
      "downloading: http://www.bbc.co.uk/news/world-asia-40823810\n",
      "downloading: http://www.bbc.co.uk/news/world-us-canada-40479686\n",
      "downloading: http://www.bbc.co.uk/news/world-latin-america-40704176\n",
      "downloading: http://www.bbc.co.uk/news/magazine-40837413\n",
      "downloading: http://www.bbc.co.uk/news/magazine-40800648\n",
      "downloading: http://www.bbc.co.uk/news/disability-40824728\n",
      "downloading: http://www.bbc.co.uk/news/world-europe-40824818\n",
      "downloading: http://www.bbc.co.uk/news/world-us-canada-40806586\n",
      "downloading: http://www.bbc.co.uk/news/magazine-40730712\n",
      "downloading: http://www.bbc.co.uk/news/world-us-canada-40756948\n",
      "downloading: http://www.bbc.co.uk/news/world-40824597\n",
      "downloading: http://www.bbc.co.uk/news/world-europe-40826257\n",
      "downloading: http://www.bbc.co.uk/sport/football/40825848\n",
      "downloading: http://www.bbc.co.uk/sport/cricket/40843147\n",
      "downloading: http://www.bbc.co.uk/sport/football/40843317\n",
      "downloading: http://www.bbc.co.uk/sport/athletics/40841066\n",
      "downloading: http://feeds.foxnews.com/~r/foxnews/national/~3/A8YQsdMGr8E/missing-skinny-dippers-body-found-by-off-duty-lifeguard.html\n",
      "downloading: http://feeds.foxnews.com/~r/foxnews/national/~3/xTfJZeGXW_E/northwestern-professor-oxford-staffer-jailed-in-stabbing.html\n",
      "downloading: http://feeds.foxnews.com/~r/foxnews/national/~3/Ax_vQPFVoYs/tornado-eyed-in-tulsa-oklahoma-at-least-25-hurt.html\n",
      "downloading: http://feeds.foxnews.com/~r/foxnews/national/~3/q9lhjT5JNdY/manhunt-underway-for-ohio-prisoner-charged-with-rape-after-deputy-overpowered-gun-stolen.html\n",
      "downloading: http://feeds.foxnews.com/~r/foxnews/national/~3/by-UrN2v1Ls/girls-softball-team-called-out-after-crude-snapchat-taunt.html\n",
      "downloading: http://feeds.foxnews.com/~r/foxnews/national/~3/5e1Be6gNPMk/search-on-after-us-marines-aircraft-mishap-off-australia.html\n",
      "downloading: http://feeds.foxnews.com/~r/foxnews/national/~3/mPiPxf5Wk2s/fema-ready-for-hurricane-season-trump-says.html\n",
      "downloading: http://feeds.foxnews.com/~r/foxnews/national/~3/xAlfPvq6JBI/photos-flooding-shuts-down-interstate-35-in-kansas-city-on-saturday-night.html\n",
      "downloading: http://feeds.foxnews.com/~r/foxnews/national/~3/7eIxIGHx7aY/donations-pour-in-for-families-us-paratroopers-killed-in-afghanistan.html\n",
      "downloading: http://feeds.foxnews.com/~r/foxnews/national/~3/u5o-SbTU_TI/police-chicago-stabbing-death-suspects-surrender-peacefully.html\n",
      "downloading: http://feeds.foxnews.com/~r/foxnews/national/~3/HAlxj0C3aVg/3-people-dead-curfew-in-place-on-indian-reservation.html\n",
      "downloading: http://feeds.foxnews.com/~r/foxnews/national/~3/7CyECDh0r-o/should-springing-us-terrorism-convicts-alarm-americans.html\n",
      "downloading: http://feeds.foxnews.com/~r/foxnews/national/~3/aai_GyIV_cA/sugardaddy-73-seeking-sugarbaby-banned-from-florida-beaches.html\n",
      "downloading: http://feeds.foxnews.com/~r/foxnews/national/~3/13Po1Ngf4aQ/latest-police-seek-cause-minnesota-mosque-blast.html\n"
     ]
    },
    {
     "name": "stdout",
     "output_type": "stream",
     "text": [
      "downloading: http://feeds.foxnews.com/~r/foxnews/national/~3/VzNexi6QJdo/victim-shooting-at-north-carolina-memorial-service-dies.html\n",
      "downloading: http://feeds.foxnews.com/~r/foxnews/national/~3/mF1ygutlEk0/gunfire-caused-destructive-blaze-near-californias-yosemite.html\n",
      "downloading: http://feeds.foxnews.com/~r/foxnews/national/~3/qmO2gF9TYA4/trump-national-security-adviser-stresses-north-korea-threat.html\n",
      "downloading: http://feeds.foxnews.com/~r/foxnews/national/~3/4v0BPf2vqWg/slain-indiana-officer-praised-for-service-during-funeral.html\n",
      "downloading: http://feeds.foxnews.com/~r/foxnews/national/~3/gr5XwBjKvrs/police-video-shows-ohio-mom-shooting-heroin-in-front-young-son.html\n",
      "downloading: http://feeds.foxnews.com/~r/foxnews/national/~3/xLYcYfYqm2k/gay-small-town-oklahoma-clerk-claims-harassment-in-lawsuit.html\n"
     ]
    }
   ],
   "source": [
    "rs.collect_string(\"http://rss.cnn.com/rss/cnn_topstories.rss\")\n",
    "\n",
    "rs.collect_string(\"http://abcnews.go.com/abcnews/usheadlines\")\n",
    "\n",
    "rs.collect_string(\"http://rss.nytimes.com/services/xml/rss/nyt/US.xml\")\n",
    "\n",
    "rs.collect_string(\"http://feeds.washingtonpost.com/rss/national\")\n",
    "\n",
    "rs.collect_string(\"http://feeds.bbci.co.uk/news/rss.xml?edition=us\")\n",
    "\n",
    "rs.collect_string(\"http://feeds.foxnews.com/foxnews/national\")"
   ]
  },
  {
   "cell_type": "code",
   "execution_count": 2,
   "metadata": {
    "scrolled": false
   },
   "outputs": [
    {
     "name": "stdout",
     "output_type": "stream",
     "text": [
      "downloading: http://rss.cnn.com/~r/rss/cnn_topstories/~3/tR8khyJvXd4/index.html\n",
      "downloading: http://rss.cnn.com/~r/rss/cnn_topstories/~3/xGxuSq5nmB0/index.html\n",
      "downloading: http://rss.cnn.com/~r/rss/cnn_topstories/~3/-9CWNFfmDOU/trump-going-to-destroy-ms13-sot.cnn\n",
      "downloading: http://rss.cnn.com/~r/rss/cnn_topstories/~3/C8Y8lsC20yI/index.html\n",
      "downloading: http://rss.cnn.com/~r/rss/cnn_topstories/~3/eEerMahN3kg/index.html\n",
      "downloading: http://rss.cnn.com/~r/rss/cnn_topstories/~3/zrp5pCIejkw/index.html\n",
      "downloading: http://rss.cnn.com/~r/rss/cnn_topstories/~3/4mCyhVxfMNs/index.html\n",
      "downloading: http://rss.cnn.com/~r/rss/cnn_topstories/~3/-qtsgduQt9k/index.html\n",
      "downloading: http://rss.cnn.com/~r/rss/cnn_topstories/~3/oje0RKGOOK4/index.html\n",
      "downloading: http://rss.cnn.com/~r/rss/cnn_topstories/~3/rW-DIiGuz4k/index.html\n"
     ]
    }
   ],
   "source": [
    "# Database works here.\n",
    "rs.collect(\"http://rss.cnn.com/rss/cnn_topstories.rss\", 10, filename=\"news.pickle\")"
   ]
  },
  {
   "cell_type": "code",
   "execution_count": 3,
   "metadata": {
    "collapsed": true,
    "scrolled": true
   },
   "outputs": [],
   "source": [
    "news = rs.load()"
   ]
  },
  {
   "cell_type": "code",
   "execution_count": 4,
   "metadata": {
    "collapsed": true
   },
   "outputs": [],
   "source": [
    "rs.save()"
   ]
  },
  {
   "cell_type": "code",
   "execution_count": 5,
   "metadata": {},
   "outputs": [
    {
     "data": {
      "text/plain": [
       "'\"We\\'ve gotten a lot of them out of here,\" Trump sa'"
      ]
     },
     "execution_count": 5,
     "metadata": {},
     "output_type": "execute_result"
    }
   ],
   "source": [
    "rs.get_text(\"http://rss.cnn.com/~r/rss/cnn_topstories/~3/tR8khyJvXd4/index.html\")[:50]"
   ]
  },
  {
   "cell_type": "code",
   "execution_count": 10,
   "metadata": {
    "scrolled": true
   },
   "outputs": [
    {
     "data": {
      "text/plain": [
       "'\"We\\'ve gotten a lot of them out of here,\" Trump said. \"But the rest are coming. They\\'ll be out of he'"
      ]
     },
     "execution_count": 10,
     "metadata": {},
     "output_type": "execute_result"
    }
   ],
   "source": [
    "rs.get_data(0)[:100]"
   ]
  },
  {
   "cell_type": "code",
   "execution_count": 7,
   "metadata": {
    "scrolled": true
   },
   "outputs": [
    {
     "data": {
      "text/plain": [
       "str"
      ]
     },
     "execution_count": 7,
     "metadata": {},
     "output_type": "execute_result"
    }
   ],
   "source": [
    "string = rs.get_text(\"http://rss.cnn.com/~r/rss/cnn_topstories/~3/4YFwJMnmxVI/index.html\")\n",
    "type(string)"
   ]
  },
  {
   "cell_type": "code",
   "execution_count": null,
   "metadata": {},
   "outputs": [
    {
     "name": "stdout",
     "output_type": "stream",
     "text": [
      "downloading: http://rss.cnn.com/~r/rss/cnn_topstories/~3/0u1IuwVLznI/index.html\n",
      "downloading: http://rss.cnn.com/~r/rss/cnn_topstories/~3/qr-kwjbEzPM/index.html\n",
      "downloading: http://rss.cnn.com/~r/rss/cnn_topstories/~3/eB11y6bazzI/index.html\n",
      "downloading: http://rss.cnn.com/~r/rss/cnn_topstories/~3/TBxoZGYd9ng/index.html\n",
      "downloading: http://rss.cnn.com/~r/rss/cnn_topstories/~3/m425cXgsGks/california-officer-points-gun-for-nine-minutes-at-man.angelo-david-gonzales-viralhog-com\n",
      "downloading: http://rss.cnn.com/~r/rss/cnn_topstories/~3/wkoPoHNf33o/index.html\n",
      "downloading: http://rss.cnn.com/~r/rss/cnn_topstories/~3/2cDA98CXiBE/index.html\n",
      "downloading: http://rss.cnn.com/~r/rss/cnn_topstories/~3/Y9dX-hKKlNE/index.html\n",
      "downloading: http://rss.cnn.com/~r/rss/cnn_topstories/~3/FJv56O9NEj0/index.html\n",
      "downloading: http://rss.cnn.com/~r/rss/cnn_topstories/~3/dXaEJ5nZVKE/index.html\n",
      "downloading: http://rss.cnn.com/~r/rss/cnn_topstories/~3/LHFR_iHP5tI/carson-doorsteps-of-impeachment-tsr-sot.cnn\n",
      "downloading: http://rss.cnn.com/~r/rss/cnn_topstories/~3/KuH-DjQI3hw/index.html\n",
      "downloading: http://rss.cnn.com/~r/rss/cnn_topstories/~3/ZLSRjgpyCPw/index.html\n",
      "downloading: http://rss.cnn.com/~r/rss/cnn_topstories/~3/xS27iV7WEmI/kellyanne-conway-lie-detector-tests-orig-vstan.cnn\n",
      "downloading: http://rss.cnn.com/~r/rss/cnn_topstories/~3/FizhuLRUjJE/index.html\n",
      "downloading: http://rss.cnn.com/~r/rss/cnn_topstories/~3/WVbNYKcvpcw/index.html\n",
      "downloading: http://rss.cnn.com/~r/rss/cnn_topstories/~3/zroMicxqBB0/index.html\n",
      "downloading: http://rss.cnn.com/~r/rss/cnn_topstories/~3/qD-nDeprmGI/2725684-jim-plunkett-says-my-life-sucks-lives-in-constant-pain-from-football\n",
      "downloading: http://rss.cnn.com/~r/rss/cnn_topstories/~3/gcpe2IncouI/index.html\n",
      "downloading: http://rss.cnn.com/~r/rss/cnn_topstories/~3/niv1oNUWFBk/2724914-martellus-bennett-on-players-cte-comments-i-aint-dying-for-this-s-t\n",
      "downloading: http://rss.cnn.com/~r/rss/cnn_topstories/~3/MpTvoqYQmUc/index.html\n",
      "downloading: http://rss.cnn.com/~r/rss/cnn_topstories/~3/4qf77qh2yog/index.html\n"
     ]
    }
   ],
   "source": [
    "rs.collect(\"http://rss.cnn.com/rss/cnn_topstories.rss\", 50, filename=\"fakenews.pickle\")\n",
    "\n",
    "rs.collect(\"http://abcnews.go.com/abcnews/usheadlines\", 50, filename=\"fakenews.pickle\")\n",
    "\n",
    "rs.collect(\"http://rss.nytimes.com/services/xml/rss/nyt/US.xml\", 50, filename=\"fakenews.pickle\")\n",
    "\n",
    "rs.collect(\"http://feeds.washingtonpost.com/rss/national\", 50, filename=\"fakenews.pickle\")\n",
    "\n",
    "\n",
    "rs.collect(\"http://feeds.bbci.co.uk/news/rss.xml?edition=us\", 50, filename=\"fakenews.pickle\")\n",
    "\n",
    "rs.collect(\"http://feeds.foxnews.com/foxnews/national\", 50, filename=\"fakenews.pickle\")"
   ]
  },
  {
   "cell_type": "code",
   "execution_count": 1,
   "metadata": {},
   "outputs": [
    {
     "ename": "NameError",
     "evalue": "name 'rs' is not defined",
     "output_type": "error",
     "traceback": [
      "\u001b[1;31m---------------------------------------------------------------------------\u001b[0m",
      "\u001b[1;31mNameError\u001b[0m                                 Traceback (most recent call last)",
      "\u001b[1;32m<ipython-input-1-2aff6bfe19d9>\u001b[0m in \u001b[0;36m<module>\u001b[1;34m()\u001b[0m\n\u001b[1;32m----> 1\u001b[1;33m \u001b[0mrs\u001b[0m\u001b[1;33m.\u001b[0m\u001b[0mcollect\u001b[0m\u001b[1;33m(\u001b[0m\u001b[1;34m\"http://rss.cnn.com/rss/cnn_topstories.rss\"\u001b[0m\u001b[1;33m)\u001b[0m\u001b[1;33m\u001b[0m\u001b[0m\n\u001b[0m\u001b[0;32m      2\u001b[0m \u001b[1;33m\u001b[0m\u001b[0m\n\u001b[0;32m      3\u001b[0m \u001b[0mrs\u001b[0m\u001b[1;33m.\u001b[0m\u001b[0mcollect\u001b[0m\u001b[1;33m(\u001b[0m\u001b[1;34m\"http://abcnews.go.com/abcnews/usheadlines\"\u001b[0m\u001b[1;33m)\u001b[0m\u001b[1;33m\u001b[0m\u001b[0m\n\u001b[0;32m      4\u001b[0m \u001b[1;33m\u001b[0m\u001b[0m\n\u001b[0;32m      5\u001b[0m \u001b[0mrs\u001b[0m\u001b[1;33m.\u001b[0m\u001b[0mcollect\u001b[0m\u001b[1;33m(\u001b[0m\u001b[1;34m\"http://rss.nytimes.com/services/xml/rss/nyt/US.xml\"\u001b[0m\u001b[1;33m)\u001b[0m\u001b[1;33m\u001b[0m\u001b[0m\n",
      "\u001b[1;31mNameError\u001b[0m: name 'rs' is not defined"
     ]
    }
   ],
   "source": []
  },
  {
   "cell_type": "code",
   "execution_count": null,
   "metadata": {
    "collapsed": true
   },
   "outputs": [],
   "source": []
  }
 ],
 "metadata": {
  "kernelspec": {
   "display_name": "Python 3",
   "language": "python",
   "name": "python3"
  },
  "language_info": {
   "codemirror_mode": {
    "name": "ipython",
    "version": 3
   },
   "file_extension": ".py",
   "mimetype": "text/x-python",
   "name": "python",
   "nbconvert_exporter": "python",
   "pygments_lexer": "ipython3",
   "version": "3.6.2"
  }
 },
 "nbformat": 4,
 "nbformat_minor": 2
}
